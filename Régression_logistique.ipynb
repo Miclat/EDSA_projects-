{
  "nbformat": 4,
  "nbformat_minor": 0,
  "metadata": {
    "kernelspec": {
      "display_name": "Python 2",
      "language": "python",
      "name": "python2"
    },
    "language_info": {
      "codemirror_mode": {
        "name": "ipython",
        "version": 2
      },
      "file_extension": ".py",
      "mimetype": "text/x-python",
      "name": "python",
      "nbconvert_exporter": "python",
      "pygments_lexer": "ipython2",
      "version": "2.7.9"
    },
    "colab": {
      "name": "Régression logistique",
      "provenance": [],
      "include_colab_link": true
    }
  },
  "cells": [
    {
      "cell_type": "markdown",
      "metadata": {
        "id": "view-in-github",
        "colab_type": "text"
      },
      "source": [
        "<a href=\"https://colab.research.google.com/github/Miclat/EDSA_projects-/blob/main/R%C3%A9gression_logistique.ipynb\" target=\"_parent\"><img src=\"https://colab.research.google.com/assets/colab-badge.svg\" alt=\"Open In Colab\"/></a>"
      ]
    },
    {
      "cell_type": "markdown",
      "metadata": {
        "id": "IFJMJ-ZFL9f6"
      },
      "source": [
        "# Logistic Regression"
      ]
    },
    {
      "cell_type": "markdown",
      "metadata": {
        "id": "ZIWHfTR4L9f-"
      },
      "source": [
        "This notebook covers a Python-based solution for the second programming exercise of the machine learning class on Coursera.  Please refer to the [exercise text](https://github.com/jdwittenauer/ipython-notebooks/blob/master/exercises/ML/ex2.pdf) for detailed descriptions and equations.\n",
        "\n",
        "In this exercise we'll implement logistic regression and apply it to a classification task.  We'll also improve the robustness of our implementation by adding regularization to the training algorithm. and testing it on a more difficult problem."
      ]
    },
    {
      "cell_type": "markdown",
      "metadata": {
        "id": "7F6nsE4XL9gB"
      },
      "source": [
        "## Logistic regression"
      ]
    },
    {
      "cell_type": "markdown",
      "metadata": {
        "id": "eKSvNPpcL9gC"
      },
      "source": [
        "In the first part of this exercise, we'll build a logistic regression model to predict whether a student gets admitted to a university.  Suppose that you are the administrator of a university department and you want to determine each applicant's chance of admission based on their results on two exams. You have historical data from previous applicants that you can use as a training set for logistic regression.  For each training example, you have the applicant's scores on two exams and the admissions decision.  To accomplish this, we're going to build a classification model that estimates the probability of admission based on the exam scores."
      ]
    },
    {
      "cell_type": "markdown",
      "metadata": {
        "id": "K-LRyZ3jL9gE"
      },
      "source": [
        "Let's start by examining the data."
      ]
    },
    {
      "cell_type": "code",
      "metadata": {
        "id": "5Aq6a3d4L9gG"
      },
      "source": [
        "import numpy as np\n",
        "import pandas as pd\n",
        "import matplotlib.pyplot as plt\n",
        "%matplotlib inline"
      ],
      "execution_count": null,
      "outputs": []
    },
    {
      "cell_type": "code",
      "metadata": {
        "id": "sKZ1npdQL9gT",
        "outputId": "a5746079-5302-4043-d165-a744ea236bcb"
      },
      "source": [
        "import os\n",
        "path = os.getcwd() + '\\data\\ex2data1.txt'\n",
        "data = pd.read_csv(path, header=None, names=['Exam 1', 'Exam 2', 'Admitted'])\n",
        "data.head()"
      ],
      "execution_count": null,
      "outputs": [
        {
          "output_type": "execute_result",
          "data": {
            "text/html": [
              "<div style=\"max-height:1000px;max-width:1500px;overflow:auto;\">\n",
              "<table border=\"1\" class=\"dataframe\">\n",
              "  <thead>\n",
              "    <tr style=\"text-align: right;\">\n",
              "      <th></th>\n",
              "      <th>Exam 1</th>\n",
              "      <th>Exam 2</th>\n",
              "      <th>Admitted</th>\n",
              "    </tr>\n",
              "  </thead>\n",
              "  <tbody>\n",
              "    <tr>\n",
              "      <th>0</th>\n",
              "      <td> 34.623660</td>\n",
              "      <td> 78.024693</td>\n",
              "      <td> 0</td>\n",
              "    </tr>\n",
              "    <tr>\n",
              "      <th>1</th>\n",
              "      <td> 30.286711</td>\n",
              "      <td> 43.894998</td>\n",
              "      <td> 0</td>\n",
              "    </tr>\n",
              "    <tr>\n",
              "      <th>2</th>\n",
              "      <td> 35.847409</td>\n",
              "      <td> 72.902198</td>\n",
              "      <td> 0</td>\n",
              "    </tr>\n",
              "    <tr>\n",
              "      <th>3</th>\n",
              "      <td> 60.182599</td>\n",
              "      <td> 86.308552</td>\n",
              "      <td> 1</td>\n",
              "    </tr>\n",
              "    <tr>\n",
              "      <th>4</th>\n",
              "      <td> 79.032736</td>\n",
              "      <td> 75.344376</td>\n",
              "      <td> 1</td>\n",
              "    </tr>\n",
              "  </tbody>\n",
              "</table>\n",
              "</div>"
            ],
            "text/plain": [
              "      Exam 1     Exam 2  Admitted\n",
              "0  34.623660  78.024693         0\n",
              "1  30.286711  43.894998         0\n",
              "2  35.847409  72.902198         0\n",
              "3  60.182599  86.308552         1\n",
              "4  79.032736  75.344376         1"
            ]
          },
          "metadata": {
            "tags": []
          },
          "execution_count": 2
        }
      ]
    },
    {
      "cell_type": "markdown",
      "metadata": {
        "id": "gmLSS_INL9gg"
      },
      "source": [
        "Let's create a scatter plot of the two scores and use color coding to visualize if the example is positive (admitted) or negative (not admitted)."
      ]
    },
    {
      "cell_type": "code",
      "metadata": {
        "id": "MmlV0BNOL9gi",
        "outputId": "7d176c1c-8a77-45ad-ffa5-66877c174e6b"
      },
      "source": [
        "positive = data[data['Admitted'].isin([1])]\n",
        "negative = data[data['Admitted'].isin([0])]\n",
        "\n",
        "fig, ax = plt.subplots(figsize=(12,8))\n",
        "ax.scatter(positive['Exam 1'], positive['Exam 2'], s=50, c='b', marker='o', label='Admitted')\n",
        "ax.scatter(negative['Exam 1'], negative['Exam 2'], s=50, c='r', marker='x', label='Not Admitted')\n",
        "ax.legend()\n",
        "ax.set_xlabel('Exam 1 Score')\n",
        "ax.set_ylabel('Exam 2 Score')"
      ],
      "execution_count": null,
      "outputs": [
        {
          "output_type": "execute_result",
          "data": {
            "text/plain": [
              "<matplotlib.text.Text at 0xd17d7b8>"
            ]
          },
          "metadata": {
            "tags": []
          },
          "execution_count": 3
        },
        {
          "output_type": "display_data",
          "data": {
            "image/png": "[encoded data removed]",
            "text/plain": [
              "<matplotlib.figure.Figure at 0xd120da0>"
            ]
          },
          "metadata": {
            "tags": []
          }
        }
      ]
    },
    {
      "cell_type": "markdown",
      "metadata": {
        "id": "-5iBdDa2L9gr"
      },
      "source": [
        "It looks like there is a clear decision boundary between the two classes.  Now we need to implement logistic regression so we can train a model to predict the outcome.  The equations implemented in the following code samples are detailed in \"ex2.pdf\" in the \"exercises\" folder."
      ]
    },
    {
      "cell_type": "markdown",
      "metadata": {
        "id": "0zE_tu0SL9gs"
      },
      "source": [
        "First we need to create a sigmoid function.  The code for this is pretty simple."
      ]
    },
    {
      "cell_type": "code",
      "metadata": {
        "id": "dqLgEhufL9gu"
      },
      "source": [
        "def sigmoid(z):\n",
        "    return 1 / (1 + np.exp(-z))"
      ],
      "execution_count": null,
      "outputs": []
    },
    {
      "cell_type": "markdown",
      "metadata": {
        "id": "CIsTiBBrL9g4"
      },
      "source": [
        "Let's do a quick sanity check to make sure the function is working."
      ]
    },
    {
      "cell_type": "code",
      "metadata": {
        "id": "Ky0k9phEL9g6",
        "outputId": "badf40ce-40af-4ec7-94c1-85578a17b329"
      },
      "source": [
        "nums = np.arange(-10, 10, step=1)\n",
        "\n",
        "fig, ax = plt.subplots(figsize=(12,8))\n",
        "ax.plot(nums, sigmoid(nums), 'r')"
      ],
      "execution_count": null,
      "outputs": [
        {
          "output_type": "execute_result",
          "data": {
            "text/plain": [
              "[<matplotlib.lines.Line2D at 0xd120048>]"
            ]
          },
          "metadata": {
            "tags": []
          },
          "execution_count": 5
        },
        {
          "output_type": "display_data",
          "data": {
            "image/png": "[encoded data removed]",
            "text/plain": [
              "<matplotlib.figure.Figure at 0xd120128>"
            ]
          },
          "metadata": {
            "tags": []
          }
        }
      ]
    },
    {
      "cell_type": "markdown",
      "metadata": {
        "id": "gWG_rv6IL9hI"
      },
      "source": [
        "Excellent!  Now we need to write the cost function to evaluate a solution."
      ]
    },
    {
      "cell_type": "code",
      "metadata": {
        "id": "JTZcJuCZL9hK"
      },
      "source": [
        "def cost(theta, X, y):\n",
        "    theta = np.matrix(theta)\n",
        "    X = np.matrix(X)\n",
        "    y = np.matrix(y)\n",
        "    first = np.multiply(-y, np.log(sigmoid(X * theta.T)))\n",
        "    second = np.multiply((1 - y), np.log(1 - sigmoid(X * theta.T)))\n",
        "    return np.sum(first - second) / (len(X))"
      ],
      "execution_count": null,
      "outputs": []
    },
    {
      "cell_type": "markdown",
      "metadata": {
        "id": "CTh3sagRL9hU"
      },
      "source": [
        "Now we need to do some setup, similar to what we did in exercise 1 for linear regression."
      ]
    },
    {
      "cell_type": "code",
      "metadata": {
        "id": "1M2zANdhL9hV"
      },
      "source": [
        "# add a ones column - this makes the matrix multiplication work out easier\n",
        "data.insert(0, 'Ones', 1)\n",
        "\n",
        "# set X (training data) and y (target variable)\n",
        "cols = data.shape[1]\n",
        "X = data.iloc[:,0:cols-1]\n",
        "y = data.iloc[:,cols-1:cols]\n",
        "\n",
        "# convert to numpy arrays and initalize the parameter array theta\n",
        "X = np.array(X.values)\n",
        "y = np.array(y.values)\n",
        "theta = np.zeros(3)"
      ],
      "execution_count": null,
      "outputs": []
    },
    {
      "cell_type": "markdown",
      "metadata": {
        "id": "90nbeRG8L9hd"
      },
      "source": [
        "Let's quickly check the shape of our arrays to make sure everything looks good."
      ]
    },
    {
      "cell_type": "code",
      "metadata": {
        "id": "mpYs70pbL9he",
        "outputId": "b436f5b8-1811-4593-cbe3-57420af62931"
      },
      "source": [
        "X.shape, theta.shape, y.shape"
      ],
      "execution_count": null,
      "outputs": [
        {
          "output_type": "execute_result",
          "data": {
            "text/plain": [
              "((100L, 3L), (3L,), (100L, 1L))"
            ]
          },
          "metadata": {
            "tags": []
          },
          "execution_count": 8
        }
      ]
    },
    {
      "cell_type": "markdown",
      "metadata": {
        "id": "GYCiAiKBL9hm"
      },
      "source": [
        "Now let's compute the cost for our initial solution (0 values for theta)."
      ]
    },
    {
      "cell_type": "code",
      "metadata": {
        "id": "cK-oa4V0L9ho",
        "outputId": "74ce7102-2657-4517-f2a3-bc5a6fe506cc"
      },
      "source": [
        "cost(theta, X, y)"
      ],
      "execution_count": null,
      "outputs": [
        {
          "output_type": "execute_result",
          "data": {
            "text/plain": [
              "0.69314718055994529"
            ]
          },
          "metadata": {
            "tags": []
          },
          "execution_count": 9
        }
      ]
    },
    {
      "cell_type": "markdown",
      "metadata": {
        "id": "r-pNTk0SL9hx"
      },
      "source": [
        "Looks good.  Next we need a function to compute the gradient (parameter updates) given our training data, labels, and some parameters theta."
      ]
    },
    {
      "cell_type": "code",
      "metadata": {
        "id": "PWWhcWgoL9hy"
      },
      "source": [
        "def gradient(theta, X, y):\n",
        "    theta = np.matrix(theta)\n",
        "    X = np.matrix(X)\n",
        "    y = np.matrix(y)\n",
        "    \n",
        "    parameters = int(theta.ravel().shape[1])\n",
        "    grad = np.zeros(parameters)\n",
        "    \n",
        "    error = sigmoid(X * theta.T) - y\n",
        "    \n",
        "    for i in range(parameters):\n",
        "        term = np.multiply(error, X[:,i])\n",
        "        grad[i] = np.sum(term) / len(X)\n",
        "    \n",
        "    return grad"
      ],
      "execution_count": null,
      "outputs": []
    },
    {
      "cell_type": "markdown",
      "metadata": {
        "id": "r7hWY-iYL9h6"
      },
      "source": [
        "Note that we don't actually perform gradient descent in this function - we just compute a single gradient step.  In the exercise, an Octave function called \"fminunc\" is used to optimize the parameters given functions to compute the cost and the gradients.  Since we're using Python, we can use SciPy's \"optimize\" namespace to do the same thing."
      ]
    },
    {
      "cell_type": "markdown",
      "metadata": {
        "id": "JPFaRO6kL9h7"
      },
      "source": [
        "Let's look at a single call to the gradient method using our data and initial paramter values of 0."
      ]
    },
    {
      "cell_type": "code",
      "metadata": {
        "id": "eSdNkFQQL9h8",
        "outputId": "82afeb92-ee35-40a0-e9a0-41cd1648a019"
      },
      "source": [
        "gradient(theta, X, y)"
      ],
      "execution_count": null,
      "outputs": [
        {
          "output_type": "execute_result",
          "data": {
            "text/plain": [
              "array([ -0.1       , -12.00921659, -11.26284221])"
            ]
          },
          "metadata": {
            "tags": []
          },
          "execution_count": 11
        }
      ]
    },
    {
      "cell_type": "markdown",
      "metadata": {
        "id": "GArv7q1UL9iE"
      },
      "source": [
        "Now we can use SciPy's truncated newton (TNC) implementation to find the optimal parameters."
      ]
    },
    {
      "cell_type": "code",
      "metadata": {
        "id": "mtK7S_hzL9iF",
        "outputId": "5aacf17e-0311-41b4-dbb4-2ee96eab2fb6"
      },
      "source": [
        "import scipy.optimize as opt\n",
        "result = opt.fmin_tnc(func=cost, x0=theta, fprime=gradient, args=(X, y))\n",
        "result"
      ],
      "execution_count": null,
      "outputs": [
        {
          "output_type": "execute_result",
          "data": {
            "text/plain": [
              "(array([-25.87355624,   0.21193682,   0.20722586]), 51, 1)"
            ]
          },
          "metadata": {
            "tags": []
          },
          "execution_count": 12
        }
      ]
    },
    {
      "cell_type": "markdown",
      "metadata": {
        "id": "zcgBRRGOL9iN"
      },
      "source": [
        "Let's see what the our cost looks like with this solution."
      ]
    },
    {
      "cell_type": "code",
      "metadata": {
        "id": "7HvzA6BCL9iO",
        "outputId": "3ae82c2b-0a1c-425b-9ae5-5996e80e1a4f"
      },
      "source": [
        "cost(result[0], X, y)"
      ],
      "execution_count": null,
      "outputs": [
        {
          "output_type": "execute_result",
          "data": {
            "text/plain": [
              "0.20357134412164668"
            ]
          },
          "metadata": {
            "tags": []
          },
          "execution_count": 13
        }
      ]
    },
    {
      "cell_type": "markdown",
      "metadata": {
        "id": "ZWLrviyNL9iT"
      },
      "source": [
        "Next we need to write a function that will output predictions for a dataset X using our learned parameters theta.  We can then use this function to score the training accuracy of our classifier."
      ]
    },
    {
      "cell_type": "code",
      "metadata": {
        "id": "0iw7mm4rL9iU"
      },
      "source": [
        "def predict(theta, X):\n",
        "    probability = sigmoid(X * theta.T)\n",
        "    return [1 if x >= 0.5 else 0 for x in probability]"
      ],
      "execution_count": null,
      "outputs": []
    },
    {
      "cell_type": "code",
      "metadata": {
        "id": "efU97t5-L9iZ",
        "outputId": "f4a3bbfe-a224-45b9-a591-59e921163f6f"
      },
      "source": [
        "theta_min = np.matrix(result[0])\n",
        "predictions = predict(theta_min, X)\n",
        "correct = [1 if ((a == 1 and b == 1) or (a == 0 and b == 0)) else 0 for (a, b) in zip(predictions, y)]\n",
        "accuracy = (sum(map(int, correct)) % len(correct))\n",
        "print 'accuracy = {0}%'.format(accuracy)"
      ],
      "execution_count": null,
      "outputs": [
        {
          "output_type": "stream",
          "text": [
            "accuracy = 89%\n"
          ],
          "name": "stdout"
        }
      ]
    },
    {
      "cell_type": "markdown",
      "metadata": {
        "id": "pu4wXlZ9L9id"
      },
      "source": [
        "Our logistic regression classifer correctly predicted if a student was admitted or not 89% of the time.  Not bad!  Keep in mind that this is training set accuracy though.  We didn't keep a hold-out set or use cross-validation to get a true approximation of the accuracy so this number is likely higher than its true perfomance (this topic is covered in a later exercise)."
      ]
    },
    {
      "cell_type": "markdown",
      "metadata": {
        "id": "DpRzGrLHL9ie"
      },
      "source": [
        "## Regularized logistic regression"
      ]
    },
    {
      "cell_type": "markdown",
      "metadata": {
        "id": "UrLKnHdDL9ie"
      },
      "source": [
        "In the second part of this exercise, we'll improve our logistic regression algorithm from part one by adding a regularization term.  If you're not familiar with regularization, or would like some background on the equations used in this section, refer to \"ex2.pdf\" in the \"exercises\" folder.  In a nutshell, regularization is a term in the cost function that causes the algorithm to prefer \"simpler\" models (in this case, models will smaller coefficients).  The theory is that this helps to minimize overfitting and improve the model's ability to generalize.  With that, let's get started."
      ]
    },
    {
      "cell_type": "markdown",
      "metadata": {
        "id": "BwGBL6a1L9if"
      },
      "source": [
        "Suppose you are the product manager of the factory and you have the test results for some microchips on two different tests.  From these two tests, you would like to determine whether the microchips should be accepted or rejected.  To help you make the decision, you have a dataset of test results on past microchips, from which you can build a logistic regression model."
      ]
    },
    {
      "cell_type": "markdown",
      "metadata": {
        "id": "xGpjOwFiL9ig"
      },
      "source": [
        "Similar to part 1, let's start by visualizing the data."
      ]
    },
    {
      "cell_type": "code",
      "metadata": {
        "id": "e_6hiFeCL9ig",
        "outputId": "2d41f37f-9e6c-4333-d450-b99b19f276f4"
      },
      "source": [
        "path = os.getcwd() + '\\data\\ex2data2.txt'\n",
        "data2 = pd.read_csv(path, header=None, names=['Test 1', 'Test 2', 'Accepted'])\n",
        "data2.head()"
      ],
      "execution_count": null,
      "outputs": [
        {
          "output_type": "execute_result",
          "data": {
            "text/html": [
              "<div style=\"max-height:1000px;max-width:1500px;overflow:auto;\">\n",
              "<table border=\"1\" class=\"dataframe\">\n",
              "  <thead>\n",
              "    <tr style=\"text-align: right;\">\n",
              "      <th></th>\n",
              "      <th>Test 1</th>\n",
              "      <th>Test 2</th>\n",
              "      <th>Accepted</th>\n",
              "    </tr>\n",
              "  </thead>\n",
              "  <tbody>\n",
              "    <tr>\n",
              "      <th>0</th>\n",
              "      <td> 0.051267</td>\n",
              "      <td> 0.69956</td>\n",
              "      <td> 1</td>\n",
              "    </tr>\n",
              "    <tr>\n",
              "      <th>1</th>\n",
              "      <td>-0.092742</td>\n",
              "      <td> 0.68494</td>\n",
              "      <td> 1</td>\n",
              "    </tr>\n",
              "    <tr>\n",
              "      <th>2</th>\n",
              "      <td>-0.213710</td>\n",
              "      <td> 0.69225</td>\n",
              "      <td> 1</td>\n",
              "    </tr>\n",
              "    <tr>\n",
              "      <th>3</th>\n",
              "      <td>-0.375000</td>\n",
              "      <td> 0.50219</td>\n",
              "      <td> 1</td>\n",
              "    </tr>\n",
              "    <tr>\n",
              "      <th>4</th>\n",
              "      <td>-0.513250</td>\n",
              "      <td> 0.46564</td>\n",
              "      <td> 1</td>\n",
              "    </tr>\n",
              "  </tbody>\n",
              "</table>\n",
              "</div>"
            ],
            "text/plain": [
              "     Test 1   Test 2  Accepted\n",
              "0  0.051267  0.69956         1\n",
              "1 -0.092742  0.68494         1\n",
              "2 -0.213710  0.69225         1\n",
              "3 -0.375000  0.50219         1\n",
              "4 -0.513250  0.46564         1"
            ]
          },
          "metadata": {
            "tags": []
          },
          "execution_count": 16
        }
      ]
    },
    {
      "cell_type": "code",
      "metadata": {
        "id": "Hbxdrp_bL9ik",
        "outputId": "692f1d8d-1149-4ea7-cceb-2e815f612aeb"
      },
      "source": [
        "positive = data2[data2['Accepted'].isin([1])]\n",
        "negative = data2[data2['Accepted'].isin([0])]\n",
        "\n",
        "fig, ax = plt.subplots(figsize=(12,8))\n",
        "ax.scatter(positive['Test 1'], positive['Test 2'], s=50, c='b', marker='o', label='Accepted')\n",
        "ax.scatter(negative['Test 1'], negative['Test 2'], s=50, c='r', marker='x', label='Rejected')\n",
        "ax.legend()\n",
        "ax.set_xlabel('Test 1 Score')\n",
        "ax.set_ylabel('Test 2 Score')"
      ],
      "execution_count": null,
      "outputs": [
        {
          "output_type": "execute_result",
          "data": {
            "text/plain": [
              "<matplotlib.text.Text at 0x17856dd8>"
            ]
          },
          "metadata": {
            "tags": []
          },
          "execution_count": 17
        },
        {
          "output_type": "display_data",
          "data": {
            "image/png": "[encoded data removed]",
            "text/plain": [
              "<matplotlib.figure.Figure at 0xd120dd8>"
            ]
          },
          "metadata": {
            "tags": []
          }
        }
      ]
    },
    {
      "cell_type": "markdown",
      "metadata": {
        "id": "pEbgx8TkL9ip"
      },
      "source": [
        "This data looks a bit more complicated than the previous example.  In particular, you'll notice that there is no linear decision boundary that will perform well on this data.  One way to deal with this using a linear technique like logistic regression is to construct features that are derived from polynomials of the original features.  Let's start by creating a bunch of polynomial features."
      ]
    },
    {
      "cell_type": "code",
      "metadata": {
        "id": "r3nE5ANhL9iq",
        "outputId": "5f086341-be8a-4920-fe67-5069181705df"
      },
      "source": [
        "degree = 5\n",
        "x1 = data2['Test 1']\n",
        "x2 = data2['Test 2']\n",
        "\n",
        "data2.insert(3, 'Ones', 1)\n",
        "\n",
        "for i in range(1, degree):\n",
        "    for j in range(0, i):\n",
        "        data2['F' + str(i) + str(j)] = np.power(x1, i-j) * np.power(x2, j)\n",
        "\n",
        "data2.drop('Test 1', axis=1, inplace=True)\n",
        "data2.drop('Test 2', axis=1, inplace=True)\n",
        "\n",
        "data2.head()"
      ],
      "execution_count": null,
      "outputs": [
        {
          "output_type": "execute_result",
          "data": {
            "text/html": [
              "<div style=\"max-height:1000px;max-width:1500px;overflow:auto;\">\n",
              "<table border=\"1\" class=\"dataframe\">\n",
              "  <thead>\n",
              "    <tr style=\"text-align: right;\">\n",
              "      <th></th>\n",
              "      <th>Accepted</th>\n",
              "      <th>Ones</th>\n",
              "      <th>F10</th>\n",
              "      <th>F20</th>\n",
              "      <th>F21</th>\n",
              "      <th>F30</th>\n",
              "      <th>F31</th>\n",
              "      <th>F32</th>\n",
              "      <th>F40</th>\n",
              "      <th>F41</th>\n",
              "      <th>F42</th>\n",
              "      <th>F43</th>\n",
              "    </tr>\n",
              "  </thead>\n",
              "  <tbody>\n",
              "    <tr>\n",
              "      <th>0</th>\n",
              "      <td> 1</td>\n",
              "      <td> 1</td>\n",
              "      <td> 0.051267</td>\n",
              "      <td> 0.002628</td>\n",
              "      <td> 0.035864</td>\n",
              "      <td> 0.000135</td>\n",
              "      <td> 0.001839</td>\n",
              "      <td> 0.025089</td>\n",
              "      <td> 0.000007</td>\n",
              "      <td> 0.000094</td>\n",
              "      <td> 0.001286</td>\n",
              "      <td> 0.017551</td>\n",
              "    </tr>\n",
              "    <tr>\n",
              "      <th>1</th>\n",
              "      <td> 1</td>\n",
              "      <td> 1</td>\n",
              "      <td>-0.092742</td>\n",
              "      <td> 0.008601</td>\n",
              "      <td>-0.063523</td>\n",
              "      <td>-0.000798</td>\n",
              "      <td> 0.005891</td>\n",
              "      <td>-0.043509</td>\n",
              "      <td> 0.000074</td>\n",
              "      <td>-0.000546</td>\n",
              "      <td> 0.004035</td>\n",
              "      <td>-0.029801</td>\n",
              "    </tr>\n",
              "    <tr>\n",
              "      <th>2</th>\n",
              "      <td> 1</td>\n",
              "      <td> 1</td>\n",
              "      <td>-0.213710</td>\n",
              "      <td> 0.045672</td>\n",
              "      <td>-0.147941</td>\n",
              "      <td>-0.009761</td>\n",
              "      <td> 0.031616</td>\n",
              "      <td>-0.102412</td>\n",
              "      <td> 0.002086</td>\n",
              "      <td>-0.006757</td>\n",
              "      <td> 0.021886</td>\n",
              "      <td>-0.070895</td>\n",
              "    </tr>\n",
              "    <tr>\n",
              "      <th>3</th>\n",
              "      <td> 1</td>\n",
              "      <td> 1</td>\n",
              "      <td>-0.375000</td>\n",
              "      <td> 0.140625</td>\n",
              "      <td>-0.188321</td>\n",
              "      <td>-0.052734</td>\n",
              "      <td> 0.070620</td>\n",
              "      <td>-0.094573</td>\n",
              "      <td> 0.019775</td>\n",
              "      <td>-0.026483</td>\n",
              "      <td> 0.035465</td>\n",
              "      <td>-0.047494</td>\n",
              "    </tr>\n",
              "    <tr>\n",
              "      <th>4</th>\n",
              "      <td> 1</td>\n",
              "      <td> 1</td>\n",
              "      <td>-0.513250</td>\n",
              "      <td> 0.263426</td>\n",
              "      <td>-0.238990</td>\n",
              "      <td>-0.135203</td>\n",
              "      <td> 0.122661</td>\n",
              "      <td>-0.111283</td>\n",
              "      <td> 0.069393</td>\n",
              "      <td>-0.062956</td>\n",
              "      <td> 0.057116</td>\n",
              "      <td>-0.051818</td>\n",
              "    </tr>\n",
              "  </tbody>\n",
              "</table>\n",
              "</div>"
            ],
            "text/plain": [
              "   Accepted  Ones       F10       F20       F21       F30       F31       F32  \\\n",
              "0         1     1  0.051267  0.002628  0.035864  0.000135  0.001839  0.025089   \n",
              "1         1     1 -0.092742  0.008601 -0.063523 -0.000798  0.005891 -0.043509   \n",
              "2         1     1 -0.213710  0.045672 -0.147941 -0.009761  0.031616 -0.102412   \n",
              "3         1     1 -0.375000  0.140625 -0.188321 -0.052734  0.070620 -0.094573   \n",
              "4         1     1 -0.513250  0.263426 -0.238990 -0.135203  0.122661 -0.111283   \n",
              "\n",
              "        F40       F41       F42       F43  \n",
              "0  0.000007  0.000094  0.001286  0.017551  \n",
              "1  0.000074 -0.000546  0.004035 -0.029801  \n",
              "2  0.002086 -0.006757  0.021886 -0.070895  \n",
              "3  0.019775 -0.026483  0.035465 -0.047494  \n",
              "4  0.069393 -0.062956  0.057116 -0.051818  "
            ]
          },
          "metadata": {
            "tags": []
          },
          "execution_count": 18
        }
      ]
    },
    {
      "cell_type": "markdown",
      "metadata": {
        "id": "ziZT4lkiL9iv"
      },
      "source": [
        "Now we need to modify the cost and gradient functions from part 1 to include the regularization term.  First the cost function:"
      ]
    },
    {
      "cell_type": "code",
      "metadata": {
        "id": "BssOsztbL9iw"
      },
      "source": [
        "def costReg(theta, X, y, learningRate):\n",
        "    theta = np.matrix(theta)\n",
        "    X = np.matrix(X)\n",
        "    y = np.matrix(y)\n",
        "    first = np.multiply(-y, np.log(sigmoid(X * theta.T)))\n",
        "    second = np.multiply((1 - y), np.log(1 - sigmoid(X * theta.T)))\n",
        "    reg = (learningRate / 2 * len(X)) * np.sum(np.power(theta[:,1:theta.shape[1]], 2))\n",
        "    return np.sum(first - second) / (len(X)) + reg"
      ],
      "execution_count": null,
      "outputs": []
    },
    {
      "cell_type": "markdown",
      "metadata": {
        "id": "he0FWDJjL9i1"
      },
      "source": [
        "Notice the \"reg\" term in the equation.  Also note the addition of a \"learning rate\" parameter.  This is a hyperparameter that controls the effectiveness of the regularization term.  Now we need to add regularization to the gradient function:"
      ]
    },
    {
      "cell_type": "code",
      "metadata": {
        "id": "wU0oL3csL9i2"
      },
      "source": [
        "def gradientReg(theta, X, y, learningRate):\n",
        "    theta = np.matrix(theta)\n",
        "    X = np.matrix(X)\n",
        "    y = np.matrix(y)\n",
        "    \n",
        "    parameters = int(theta.ravel().shape[1])\n",
        "    grad = np.zeros(parameters)\n",
        "    \n",
        "    error = sigmoid(X * theta.T) - y\n",
        "    \n",
        "    for i in range(parameters):\n",
        "        term = np.multiply(error, X[:,i])\n",
        "        \n",
        "        if (i == 0):\n",
        "            grad[i] = np.sum(term) / len(X)\n",
        "        else:\n",
        "            grad[i] = (np.sum(term) / len(X)) + ((learningRate / len(X)) * theta[:,i])\n",
        "    \n",
        "    return grad"
      ],
      "execution_count": null,
      "outputs": []
    },
    {
      "cell_type": "markdown",
      "metadata": {
        "id": "tDNrLZrfL9i9"
      },
      "source": [
        "Initialize variables like we did in part 1."
      ]
    },
    {
      "cell_type": "code",
      "metadata": {
        "id": "-y0ywCM2L9i-"
      },
      "source": [
        "# set X and y (remember from above that we moved the label to column 0)\n",
        "cols = data2.shape[1]\n",
        "X2 = data2.iloc[:,1:cols]\n",
        "y2 = data2.iloc[:,0:1]\n",
        "\n",
        "# convert to numpy arrays and initalize the parameter array theta\n",
        "X2 = np.array(X2.values)\n",
        "y2 = np.array(y2.values)\n",
        "theta2 = np.zeros(11)"
      ],
      "execution_count": null,
      "outputs": []
    },
    {
      "cell_type": "markdown",
      "metadata": {
        "id": "YqVEIHZ0L9jG"
      },
      "source": [
        "Let's initialize our learning rate to a sensible value.  We can play with this later if necessary (i.e. if the penalization is too strong or not strong enough)."
      ]
    },
    {
      "cell_type": "code",
      "metadata": {
        "id": "D2lF0f5KL9jH"
      },
      "source": [
        "learningRate = 1"
      ],
      "execution_count": null,
      "outputs": []
    },
    {
      "cell_type": "markdown",
      "metadata": {
        "id": "GshxS8nEL9jM"
      },
      "source": [
        "Now let's try calling our new regularized functions with the default (0) values for theta to make sure the calculations are working."
      ]
    },
    {
      "cell_type": "code",
      "metadata": {
        "id": "yPjBWw6bL9jN",
        "outputId": "c5206eeb-8323-4a8b-b659-62bb2d67812b"
      },
      "source": [
        "costReg(theta2, X2, y2, learningRate)"
      ],
      "execution_count": null,
      "outputs": [
        {
          "output_type": "execute_result",
          "data": {
            "text/plain": [
              "0.6931471805599454"
            ]
          },
          "metadata": {
            "tags": []
          },
          "execution_count": 23
        }
      ]
    },
    {
      "cell_type": "code",
      "metadata": {
        "id": "IyiV3-enL9jS",
        "outputId": "b20ed3d1-722c-4083-e6d5-36559600d095"
      },
      "source": [
        "gradientReg(theta2, X2, y2, learningRate)"
      ],
      "execution_count": null,
      "outputs": [
        {
          "output_type": "execute_result",
          "data": {
            "text/plain": [
              "array([ 0.00847458,  0.01878809,  0.05034464,  0.01150133,  0.01835599,\n",
              "        0.00732393,  0.00819244,  0.03934862,  0.00223924,  0.01286005,\n",
              "        0.00309594])"
            ]
          },
          "metadata": {
            "tags": []
          },
          "execution_count": 24
        }
      ]
    },
    {
      "cell_type": "markdown",
      "metadata": {
        "id": "f-yh3ONnL9jX"
      },
      "source": [
        "Now we can use the same optimization function from part 1 to compute the optimal solution."
      ]
    },
    {
      "cell_type": "code",
      "metadata": {
        "id": "YOmXITsTL9jY",
        "outputId": "4133eb52-935d-4840-930e-e29b19de79f5"
      },
      "source": [
        "result2 = opt.fmin_tnc(func=costReg, x0=theta2, fprime=gradientReg, args=(X2, y2, learningRate))\n",
        "result2"
      ],
      "execution_count": null,
      "outputs": [
        {
          "output_type": "execute_result",
          "data": {
            "text/plain": [
              "(array([  0.35872309,  -3.22200653,  18.97106363,  -4.25297831,\n",
              "         18.23053189,  20.36386672,   8.94114455, -43.77439015,\n",
              "        -17.93440473, -50.75071857,  -2.84162964]), 110, 1)"
            ]
          },
          "metadata": {
            "tags": []
          },
          "execution_count": 25
        }
      ]
    },
    {
      "cell_type": "markdown",
      "metadata": {
        "id": "4kWZ8p_rL9jh"
      },
      "source": [
        "Finally, we can use the prediction function from part 1 to see how accurate our solution is on the training data."
      ]
    },
    {
      "cell_type": "code",
      "metadata": {
        "id": "q3o6ouhcL9ji",
        "outputId": "01f40ebb-fff4-48e3-b2bc-3fdff4f9a74b"
      },
      "source": [
        "theta_min = np.matrix(result2[0])\n",
        "predictions = predict(theta_min, X2)\n",
        "correct = [1 if ((a == 1 and b == 1) or (a == 0 and b == 0)) else 0 for (a, b) in zip(predictions, y2)]\n",
        "accuracy = (sum(map(int, correct)) % len(correct))\n",
        "print 'accuracy = {0}%'.format(accuracy)"
      ],
      "execution_count": null,
      "outputs": [
        {
          "output_type": "stream",
          "text": [
            "accuracy = 91%\n"
          ],
          "name": "stdout"
        }
      ]
    },
    {
      "cell_type": "markdown",
      "metadata": {
        "id": "JVO9eB9nL9jn"
      },
      "source": [
        "Although we implemented these algorithms from scratch, it's worth noting that we could also use a high-level python library like scikit-learn to solve this problem."
      ]
    },
    {
      "cell_type": "code",
      "metadata": {
        "id": "XpkZlIpqL9jo",
        "outputId": "42e4d3ef-dd7c-4801-e53e-84f2c5aac226"
      },
      "source": [
        "from sklearn import linear_model\n",
        "model = linear_model.LogisticRegression(penalty='l2', C=1.0)\n",
        "model.fit(X2, y2.ravel())"
      ],
      "execution_count": null,
      "outputs": [
        {
          "output_type": "execute_result",
          "data": {
            "text/plain": [
              "LogisticRegression(C=1.0, class_weight=None, dual=False, fit_intercept=True,\n",
              "          intercept_scaling=1, penalty='l2', random_state=None, tol=0.0001)"
            ]
          },
          "metadata": {
            "tags": []
          },
          "execution_count": 27
        }
      ]
    },
    {
      "cell_type": "code",
      "metadata": {
        "id": "8wkQgDwoL9ju",
        "outputId": "6f187f93-5352-476b-be20-16c4988fca13"
      },
      "source": [
        "model.score(X2, y2)"
      ],
      "execution_count": null,
      "outputs": [
        {
          "output_type": "execute_result",
          "data": {
            "text/plain": [
              "0.66101694915254239"
            ]
          },
          "metadata": {
            "tags": []
          },
          "execution_count": 28
        }
      ]
    },
    {
      "cell_type": "markdown",
      "metadata": {
        "id": "jYhZFfzbL9j0"
      },
      "source": [
        "The accuracy is much lower than what we just computed, but keep in mind this result is using the default parameters provided by scikit-learn.  We'd likely need to do some parameter tuning to get the same accuracy that we obtained with our earlier result."
      ]
    },
    {
      "cell_type": "markdown",
      "metadata": {
        "id": "Q3lbScQDL9j1"
      },
      "source": [
        "That's all for Exercise 2!  Stay tuned for the next exercise where we'll tackle multi-class image classification."
      ]
    },
    {
      "cell_type": "markdown",
      "metadata": {
        "id": "-WtLQacbZbjU"
      },
      "source": [
        "# **Scikit-learn**\n"
      ]
    },
    {
      "cell_type": "markdown",
      "metadata": {
        "id": "iTe7PJKqZlHu"
      },
      "source": [
        "https://scikit-learn.org/stable/modules/generated/sklearn.linear_model.LogisticRegression.html"
      ]
    },
    {
      "cell_type": "code",
      "metadata": {
        "id": "hO2CXIriZaiI",
        "colab": {
          "base_uri": "https://localhost:8080/",
          "height": 211
        },
        "outputId": "8ebad70f-e87c-4574-981f-ea4c966ef750"
      },
      "source": [
        "import numpy as np\n",
        "import matplotlib.pyplot as plt\n",
        "from sklearn.linear_model import LogisticRegression\n",
        "from sklearn import datasets\n",
        "\n",
        "# import some data to play with\n",
        "iris = datasets.load_iris()\n",
        "X = iris.data[:, :2]  # we only take the first two features.\n",
        "Y = iris.target\n",
        "\n",
        "logreg = LogisticRegression(C=1e5)\n",
        "\n",
        "# Create an instance of Logistic Regression Classifier and fit the data.\n",
        "logreg.fit(X, Y)\n",
        "\n",
        "# Plot the decision boundary. For that, we will assign a color to each\n",
        "# point in the mesh [x_min, x_max]x[y_min, y_max].\n",
        "x_min, x_max = X[:, 0].min() - .5, X[:, 0].max() + .5\n",
        "y_min, y_max = X[:, 1].min() - .5, X[:, 1].max() + .5\n",
        "h = .02  # step size in the mesh\n",
        "xx, yy = np.meshgrid(np.arange(x_min, x_max, h), np.arange(y_min, y_max, h))\n",
        "Z = logreg.predict(np.c_[xx.ravel(), yy.ravel()])\n",
        "\n",
        "# Put the result into a color plot\n",
        "Z = Z.reshape(xx.shape)\n",
        "plt.figure(1, figsize=(4, 3))\n",
        "plt.pcolormesh(xx, yy, Z, cmap=plt.cm.Paired)\n",
        "\n",
        "# Plot also the training points\n",
        "plt.scatter(X[:, 0], X[:, 1], c=Y, edgecolors='k', cmap=plt.cm.Paired)\n",
        "plt.xlabel('Sepal length')\n",
        "plt.ylabel('Sepal width')\n",
        "\n",
        "plt.xlim(xx.min(), xx.max())\n",
        "plt.ylim(yy.min(), yy.max())\n",
        "plt.xticks(())\n",
        "plt.yticks(())\n",
        "\n",
        "plt.show()"
      ],
      "execution_count": null,
      "outputs": [
        {
          "output_type": "display_data",
          "data": {
            "image/png": "[encoded data removed]",
            "text/plain": [
              "<Figure size 288x216 with 1 Axes>"
            ]
          },
          "metadata": {
            "tags": []
          }
        }
      ]
    },
    {
      "cell_type": "code",
      "metadata": {
        "id": "c9T8P0ACafeb",
        "colab": {
          "base_uri": "https://localhost:8080/",
          "height": 136
        },
        "outputId": "667a8a12-6076-4de8-e57f-70fb48c1410d"
      },
      "source": [
        "logreg.predict(X)"
      ],
      "execution_count": null,
      "outputs": [
        {
          "output_type": "execute_result",
          "data": {
            "text/plain": [
              "array([0, 0, 0, 0, 0, 0, 0, 0, 0, 0, 0, 0, 0, 0, 0, 0, 0, 0, 0, 0, 0, 0,\n",
              "       0, 0, 0, 0, 0, 0, 0, 0, 0, 0, 0, 0, 0, 0, 0, 0, 0, 0, 0, 0, 0, 0,\n",
              "       0, 0, 0, 0, 0, 0, 2, 2, 2, 1, 2, 1, 2, 1, 2, 1, 1, 1, 1, 1, 1, 2,\n",
              "       1, 1, 1, 1, 2, 1, 1, 1, 2, 2, 2, 2, 1, 1, 1, 1, 1, 1, 1, 2, 2, 1,\n",
              "       1, 1, 1, 2, 1, 1, 1, 1, 1, 2, 1, 1, 2, 1, 2, 2, 2, 2, 1, 2, 2, 2,\n",
              "       2, 2, 2, 1, 1, 2, 2, 2, 2, 1, 2, 1, 2, 1, 2, 2, 1, 2, 2, 2, 2, 2,\n",
              "       2, 2, 1, 2, 2, 2, 1, 2, 2, 2, 1, 2, 2, 2, 1, 2, 2, 1])"
            ]
          },
          "metadata": {
            "tags": []
          },
          "execution_count": 32
        }
      ]
    },
    {
      "cell_type": "code",
      "metadata": {
        "id": "5DlBEvjTbGe4",
        "colab": {
          "base_uri": "https://localhost:8080/",
          "height": 136
        },
        "outputId": "ad697657-6b4c-4923-e36f-dbe558117866"
      },
      "source": [
        "Y"
      ],
      "execution_count": null,
      "outputs": [
        {
          "output_type": "execute_result",
          "data": {
            "text/plain": [
              "array([0, 0, 0, 0, 0, 0, 0, 0, 0, 0, 0, 0, 0, 0, 0, 0, 0, 0, 0, 0, 0, 0,\n",
              "       0, 0, 0, 0, 0, 0, 0, 0, 0, 0, 0, 0, 0, 0, 0, 0, 0, 0, 0, 0, 0, 0,\n",
              "       0, 0, 0, 0, 0, 0, 1, 1, 1, 1, 1, 1, 1, 1, 1, 1, 1, 1, 1, 1, 1, 1,\n",
              "       1, 1, 1, 1, 1, 1, 1, 1, 1, 1, 1, 1, 1, 1, 1, 1, 1, 1, 1, 1, 1, 1,\n",
              "       1, 1, 1, 1, 1, 1, 1, 1, 1, 1, 1, 1, 2, 2, 2, 2, 2, 2, 2, 2, 2, 2,\n",
              "       2, 2, 2, 2, 2, 2, 2, 2, 2, 2, 2, 2, 2, 2, 2, 2, 2, 2, 2, 2, 2, 2,\n",
              "       2, 2, 2, 2, 2, 2, 2, 2, 2, 2, 2, 2, 2, 2, 2, 2, 2, 2])"
            ]
          },
          "metadata": {
            "tags": []
          },
          "execution_count": 33
        }
      ]
    },
    {
      "cell_type": "code",
      "metadata": {
        "id": "3ZnYeYH1bJI_",
        "colab": {
          "base_uri": "https://localhost:8080/",
          "height": 34
        },
        "outputId": "bb0ec958-1906-4e3d-d9fc-85f34f1adb89"
      },
      "source": [
        "s= (Y==logreg.predict(X)).sum()\n",
        "s"
      ],
      "execution_count": null,
      "outputs": [
        {
          "output_type": "execute_result",
          "data": {
            "text/plain": [
              "121"
            ]
          },
          "metadata": {
            "tags": []
          },
          "execution_count": 34
        }
      ]
    },
    {
      "cell_type": "code",
      "metadata": {
        "id": "IoANhkdsbm5O",
        "colab": {
          "base_uri": "https://localhost:8080/",
          "height": 34
        },
        "outputId": "ef2690af-9811-4f13-e668-498f9ae7500e"
      },
      "source": [
        "len(Y)"
      ],
      "execution_count": null,
      "outputs": [
        {
          "output_type": "execute_result",
          "data": {
            "text/plain": [
              "150"
            ]
          },
          "metadata": {
            "tags": []
          },
          "execution_count": 35
        }
      ]
    },
    {
      "cell_type": "code",
      "metadata": {
        "id": "_YWBhYEvbQYc",
        "colab": {
          "base_uri": "https://localhost:8080/",
          "height": 34
        },
        "outputId": "f14113c8-a17f-4af2-aa71-db5a34ca918e"
      },
      "source": [
        "s/150."
      ],
      "execution_count": null,
      "outputs": [
        {
          "output_type": "execute_result",
          "data": {
            "text/plain": [
              "0.8066666666666666"
            ]
          },
          "metadata": {
            "tags": []
          },
          "execution_count": 24
        }
      ]
    },
    {
      "cell_type": "code",
      "metadata": {
        "id": "wSQwfKDeaEuW",
        "colab": {
          "base_uri": "https://localhost:8080/",
          "height": 34
        },
        "outputId": "258c7f0e-3f59-40d4-dcf3-4dbc90986edf"
      },
      "source": [
        "logreg.score(X,Y)"
      ],
      "execution_count": null,
      "outputs": [
        {
          "output_type": "execute_result",
          "data": {
            "text/plain": [
              "0.8066666666666666"
            ]
          },
          "metadata": {
            "tags": []
          },
          "execution_count": 5
        }
      ]
    },
    {
      "cell_type": "code",
      "metadata": {
        "id": "4HX7kewFaVpk",
        "colab": {
          "base_uri": "https://localhost:8080/",
          "height": 1000
        },
        "outputId": "facc6d23-29f7-487e-b467-ccdbbca7fedc"
      },
      "source": [
        "np.exp(logreg.predict_log_proba(X))"
      ],
      "execution_count": null,
      "outputs": [
        {
          "output_type": "execute_result",
          "data": {
            "text/plain": [
              "array([[9.04841135e-01, 6.91640677e-02, 2.59947976e-02],\n",
              "       [7.62419148e-01, 2.18605283e-01, 1.89755686e-02],\n",
              "       [8.44790873e-01, 1.44314043e-01, 1.08950841e-02],\n",
              "       [8.13177820e-01, 1.78092411e-01, 8.72976906e-03],\n",
              "       [9.28797678e-01, 5.19541775e-02, 1.92481448e-02],\n",
              "       [9.35481745e-01, 2.17492692e-02, 4.27689854e-02],\n",
              "       [9.04787462e-01, 8.74303023e-02, 7.78223523e-03],\n",
              "       [8.88711104e-01, 8.99790894e-02, 2.13098064e-02],\n",
              "       [7.41107244e-01, 2.53385713e-01, 5.50704312e-03],\n",
              "       [8.00727437e-01, 1.80743247e-01, 1.85293154e-02],\n",
              "       [9.12422701e-01, 3.95040436e-02, 4.80732553e-02],\n",
              "       [8.98227193e-01, 8.88479417e-02, 1.29248650e-02],\n",
              "       [7.67237312e-01, 2.17958106e-01, 1.48045823e-02],\n",
              "       [7.83435027e-01, 2.12391009e-01, 4.17396347e-03],\n",
              "       [8.85200392e-01, 1.58057292e-02, 9.89938788e-02],\n",
              "       [9.32728758e-01, 4.60779025e-03, 6.26634516e-02],\n",
              "       [9.35481745e-01, 2.17492692e-02, 4.27689854e-02],\n",
              "       [9.04841135e-01, 6.91640677e-02, 2.59947976e-02],\n",
              "       [8.81618756e-01, 2.90913247e-02, 8.92899197e-02],\n",
              "       [9.49032248e-01, 2.90443061e-02, 2.19234463e-02],\n",
              "       [8.53790489e-01, 9.06285896e-02, 5.55809210e-02],\n",
              "       [9.37593017e-01, 3.91118972e-02, 2.32950858e-02],\n",
              "       [9.42789438e-01, 5.02170769e-02, 6.99348470e-03],\n",
              "       [8.55315111e-01, 1.16290358e-01, 2.83945318e-02],\n",
              "       [8.98227193e-01, 8.88479417e-02, 1.29248650e-02],\n",
              "       [7.56697340e-01, 2.19043625e-01, 2.42590345e-02],\n",
              "       [8.88711104e-01, 8.99790894e-02, 2.13098064e-02],\n",
              "       [8.97417572e-01, 6.94213462e-02, 3.31610817e-02],\n",
              "       [8.74639946e-01, 9.06367306e-02, 3.47233233e-02],\n",
              "       [8.44790873e-01, 1.44314043e-01, 1.08950841e-02],\n",
              "       [8.05540359e-01, 1.80013299e-01, 1.44463420e-02],\n",
              "       [8.53790489e-01, 9.06285896e-02, 5.55809210e-02],\n",
              "       [9.65260705e-01, 1.16336730e-02, 2.31056217e-02],\n",
              "       [9.46567960e-01, 8.62701455e-03, 4.48050254e-02],\n",
              "       [8.00727437e-01, 1.80743247e-01, 1.85293154e-02],\n",
              "       [8.30475188e-01, 1.46496056e-01, 2.30287553e-02],\n",
              "       [8.63833253e-01, 6.93331662e-02, 6.68335804e-02],\n",
              "       [9.33437500e-01, 5.15791992e-02, 1.49833012e-02],\n",
              "       [7.80903178e-01, 2.13708318e-01, 5.38850389e-03],\n",
              "       [8.82366526e-01, 9.03816031e-02, 2.72518710e-02],\n",
              "       [9.10894564e-01, 6.87988092e-02, 2.03066268e-02],\n",
              "       [5.46825652e-01, 4.44678900e-01, 8.49544870e-03],\n",
              "       [8.53718410e-01, 1.41202285e-01, 5.07930517e-03],\n",
              "       [9.10894564e-01, 6.87988092e-02, 2.03066268e-02],\n",
              "       [9.49032248e-01, 2.90443061e-02, 2.19234463e-02],\n",
              "       [7.67237312e-01, 2.17958106e-01, 1.48045823e-02],\n",
              "       [9.49032248e-01, 2.90443061e-02, 2.19234463e-02],\n",
              "       [8.48195509e-01, 1.43346835e-01, 8.45765614e-03],\n",
              "       [9.22615833e-01, 3.94535111e-02, 3.79306564e-02],\n",
              "       [8.61893805e-01, 1.15879990e-01, 2.22262046e-02],\n",
              "       [1.68539473e-22, 2.05743175e-01, 7.94256825e-01],\n",
              "       [5.36995672e-14, 2.81484181e-01, 7.18515819e-01],\n",
              "       [2.07778882e-22, 2.52452155e-01, 7.47547845e-01],\n",
              "       [3.39021864e-13, 8.25445383e-01, 1.74554617e-01],\n",
              "       [9.90581180e-21, 4.24933383e-01, 5.75066617e-01],\n",
              "       [2.29192367e-09, 7.04988123e-01, 2.95011875e-01],\n",
              "       [3.12224331e-11, 2.61667878e-01, 7.38332122e-01],\n",
              "       [1.80796451e-03, 9.48582135e-01, 4.96099002e-02],\n",
              "       [8.06212845e-21, 3.69739768e-01, 6.30260232e-01],\n",
              "       [1.16671668e-03, 8.88153353e-01, 1.10679930e-01],\n",
              "       [4.16469377e-10, 9.33090042e-01, 6.69099574e-02],\n",
              "       [1.62697804e-09, 5.50638804e-01, 4.49361195e-01],\n",
              "       [1.46459139e-21, 6.57063810e-01, 3.42936190e-01],\n",
              "       [1.02228426e-13, 5.05526309e-01, 4.94473691e-01],\n",
              "       [1.35573659e-06, 7.22169746e-01, 2.77828898e-01],\n",
              "       [1.37611857e-19, 2.72189420e-01, 7.27810580e-01],\n",
              "       [3.10638873e-05, 6.91587747e-01, 3.08381189e-01],\n",
              "       [3.96446016e-12, 6.85004914e-01, 3.14995086e-01],\n",
              "       [2.20602797e-24, 5.98755004e-01, 4.01244996e-01],\n",
              "       [5.77755743e-12, 7.86555819e-01, 2.13444181e-01],\n",
              "       [8.22431248e-07, 4.58817057e-01, 5.41182121e-01],\n",
              "       [4.69716024e-15, 5.39742595e-01, 4.60257405e-01],\n",
              "       [7.26076997e-22, 5.46400938e-01, 4.53599062e-01],\n",
              "       [4.69716024e-15, 5.39742595e-01, 4.60257405e-01],\n",
              "       [5.48428971e-18, 4.10874849e-01, 5.89125151e-01],\n",
              "       [1.70067865e-19, 3.29094747e-01, 6.70905253e-01],\n",
              "       [5.86930725e-25, 3.80089929e-01, 6.19910071e-01],\n",
              "       [6.56043380e-21, 3.14379866e-01, 6.85620134e-01],\n",
              "       [2.72948022e-12, 5.45437363e-01, 4.54562637e-01],\n",
              "       [4.77472525e-12, 7.40554566e-01, 2.59445434e-01],\n",
              "       [7.03866084e-12, 8.24125594e-01, 1.75874406e-01],\n",
              "       [7.03866084e-12, 8.24125594e-01, 1.75874406e-01],\n",
              "       [3.96446016e-12, 6.85004914e-01, 3.14995086e-01],\n",
              "       [5.73849057e-15, 6.04771122e-01, 3.95228878e-01],\n",
              "       [2.08257405e-02, 7.61648174e-01, 2.17526085e-01],\n",
              "       [1.46395271e-05, 3.13411828e-01, 6.86573532e-01],\n",
              "       [1.37611857e-19, 2.72189420e-01, 7.27810580e-01],\n",
              "       [1.73546353e-24, 5.68842715e-01, 4.31157285e-01],\n",
              "       [3.10638873e-05, 6.91587747e-01, 3.08381189e-01],\n",
              "       [1.48496854e-10, 8.20065606e-01, 1.79934394e-01],\n",
              "       [3.19021662e-09, 8.12676148e-01, 1.87323849e-01],\n",
              "       [2.24160730e-12, 4.65478319e-01, 5.34521681e-01],\n",
              "       [1.83387566e-13, 7.01791991e-01, 2.98208009e-01],\n",
              "       [3.48030247e-06, 9.37588551e-01, 6.24079684e-02],\n",
              "       [2.69990667e-09, 7.64719850e-01, 2.35280147e-01],\n",
              "       [1.16905074e-06, 6.44764639e-01, 3.55234192e-01],\n",
              "       [5.14393041e-08, 6.78164225e-01, 3.21835724e-01],\n",
              "       [3.83695779e-15, 4.69514378e-01, 5.30485622e-01],\n",
              "       [6.15267074e-05, 9.19688543e-01, 8.02499306e-02],\n",
              "       [2.29192367e-09, 7.04988123e-01, 2.95011875e-01],\n",
              "       [3.12224331e-11, 2.61667878e-01, 7.38332122e-01],\n",
              "       [3.96446016e-12, 6.85004914e-01, 3.14995086e-01],\n",
              "       [1.56551618e-26, 2.82039804e-01, 7.17960196e-01],\n",
              "       [1.44628326e-16, 4.37912771e-01, 5.62087229e-01],\n",
              "       [4.44690521e-18, 3.47469667e-01, 6.52530333e-01],\n",
              "       [1.62998505e-33, 2.73135151e-01, 7.26864849e-01],\n",
              "       [3.62250434e-02, 9.14766536e-01, 4.90084207e-02],\n",
              "       [1.21379004e-30, 3.15525452e-01, 6.84474548e-01],\n",
              "       [1.70195531e-27, 4.72400667e-01, 5.27599333e-01],\n",
              "       [4.41550859e-20, 7.77341313e-02, 9.22265869e-01],\n",
              "       [2.00403754e-15, 2.60580915e-01, 7.39419085e-01],\n",
              "       [1.22004220e-20, 4.78100935e-01, 5.21899065e-01],\n",
              "       [2.55168923e-22, 3.02800905e-01, 6.97199095e-01],\n",
              "       [2.23669892e-13, 7.50638927e-01, 2.49361073e-01],\n",
              "       [8.70829638e-11, 6.62268997e-01, 3.37731003e-01],\n",
              "       [5.36995672e-14, 2.81484181e-01, 7.18515819e-01],\n",
              "       [4.44690521e-18, 3.47469667e-01, 6.52530333e-01],\n",
              "       [1.75017900e-24, 4.25092827e-02, 9.57490717e-01],\n",
              "       [3.79147109e-40, 4.08152263e-01, 5.91847737e-01],\n",
              "       [1.46459139e-21, 6.57063810e-01, 3.42936190e-01],\n",
              "       [4.30343938e-21, 2.11810008e-01, 7.88189992e-01],\n",
              "       [5.99947802e-08, 7.46375691e-01, 2.53624249e-01],\n",
              "       [1.56886269e-37, 3.48745196e-01, 6.51254804e-01],\n",
              "       [3.17509824e-19, 5.03896127e-01, 4.96103873e-01],\n",
              "       [5.99519683e-17, 1.90699854e-01, 8.09300146e-01],\n",
              "       [2.63797691e-25, 1.98081361e-01, 8.01918639e-01],\n",
              "       [1.77680512e-16, 5.04705709e-01, 4.95294291e-01],\n",
              "       [2.24160730e-12, 4.65478319e-01, 5.34521681e-01],\n",
              "       [2.57690796e-19, 4.47236324e-01, 5.52763676e-01],\n",
              "       [6.24194714e-28, 2.78428993e-01, 7.21571007e-01],\n",
              "       [2.37755597e-33, 3.50490681e-01, 6.49509319e-01],\n",
              "       [2.84798197e-27, 4.27437686e-02, 9.57256231e-01],\n",
              "       [2.57690796e-19, 4.47236324e-01, 5.52763676e-01],\n",
              "       [6.74788001e-18, 4.73799638e-01, 5.26200362e-01],\n",
              "       [1.02545274e-17, 5.89306230e-01, 4.10693770e-01],\n",
              "       [6.58688076e-35, 2.73232114e-01, 7.26767886e-01],\n",
              "       [6.67401703e-10, 2.18850412e-01, 7.81149587e-01],\n",
              "       [2.51144617e-15, 3.26203548e-01, 6.73796452e-01],\n",
              "       [6.03953417e-11, 5.06318554e-01, 4.93681446e-01],\n",
              "       [2.07778882e-22, 2.52452155e-01, 7.47547845e-01],\n",
              "       [1.37611857e-19, 2.72189420e-01, 7.27810580e-01],\n",
              "       [2.07778882e-22, 2.52452155e-01, 7.47547845e-01],\n",
              "       [3.96446016e-12, 6.85004914e-01, 3.14995086e-01],\n",
              "       [1.10792132e-19, 2.19854015e-01, 7.80145985e-01],\n",
              "       [5.99519683e-17, 1.90699854e-01, 8.09300146e-01],\n",
              "       [6.56043380e-21, 3.14379866e-01, 6.85620134e-01],\n",
              "       [7.26076997e-22, 5.46400938e-01, 4.53599062e-01],\n",
              "       [4.44690521e-18, 3.47469667e-01, 6.52530333e-01],\n",
              "       [1.85650713e-08, 2.45135454e-01, 7.54864527e-01],\n",
              "       [1.62697804e-09, 5.50638804e-01, 4.49361195e-01]])"
            ]
          },
          "metadata": {
            "tags": []
          },
          "execution_count": 13
        }
      ]
    },
    {
      "cell_type": "markdown",
      "metadata": {
        "id": "jD-J7DQUcAat"
      },
      "source": [
        "##  ROC"
      ]
    },
    {
      "cell_type": "code",
      "metadata": {
        "id": "NEPx0sudbxeC"
      },
      "source": [
        "import numpy as np\n",
        "import matplotlib.pyplot as plt\n",
        "from itertools import cycle\n",
        "\n",
        "from sklearn import svm, datasets\n",
        "from sklearn.metrics import roc_curve, auc\n",
        "from sklearn.model_selection import train_test_split\n",
        "from sklearn.preprocessing import label_binarize\n",
        "from sklearn.multiclass import OneVsRestClassifier\n",
        "from scipy import interp\n",
        "from sklearn.metrics import roc_auc_score\n",
        "\n",
        "# Import some data to play with\n",
        "iris = datasets.load_iris()\n",
        "X = iris.data\n",
        "y = iris.target\n",
        "\n",
        "# Binarize the output\n",
        "y = label_binarize(y, classes=[0, 1, 2])\n",
        "n_classes = y.shape[1]\n",
        "\n",
        "# Add noisy features to make the problem harder\n",
        "random_state = np.random.RandomState(0)\n",
        "n_samples, n_features = X.shape\n",
        "X = np.c_[X, random_state.randn(n_samples, 200 * n_features)]\n",
        "\n",
        "# shuffle and split training and test sets\n",
        "X_train, X_test, y_train, y_test = train_test_split(X, y, test_size=.5,\n",
        "                                                    random_state=0)\n",
        "\n",
        "# Learn to predict each class against the other\n",
        "classifier = OneVsRestClassifier(svm.SVC(kernel='linear', probability=True,\n",
        "                                 random_state=random_state))\n",
        "y_score = classifier.fit(X_train, y_train).decision_function(X_test)\n",
        "\n",
        "# Compute ROC curve and ROC area for each class\n",
        "fpr = dict()\n",
        "tpr = dict()\n",
        "roc_auc = dict()\n",
        "for i in range(n_classes):\n",
        "    fpr[i], tpr[i], _ = roc_curve(y_test[:, i], y_score[:, i])\n",
        "    roc_auc[i] = auc(fpr[i], tpr[i])\n",
        "\n",
        "# Compute micro-average ROC curve and ROC area\n",
        "fpr[\"micro\"], tpr[\"micro\"], _ = roc_curve(y_test.ravel(), y_score.ravel())\n",
        "roc_auc[\"micro\"] = auc(fpr[\"micro\"], tpr[\"micro\"])"
      ],
      "execution_count": null,
      "outputs": []
    },
    {
      "cell_type": "code",
      "metadata": {
        "id": "fBG2k6LncHvg",
        "colab": {
          "base_uri": "https://localhost:8080/",
          "height": 295
        },
        "outputId": "a7790b34-53f0-419c-9351-431ab37b2acc"
      },
      "source": [
        "# First aggregate all false positive rates\n",
        "all_fpr = np.unique(np.concatenate([fpr[i] for i in range(n_classes)]))\n",
        "\n",
        "# Then interpolate all ROC curves at this points\n",
        "mean_tpr = np.zeros_like(all_fpr)\n",
        "for i in range(n_classes):\n",
        "    mean_tpr += interp(all_fpr, fpr[i], tpr[i])\n",
        "\n",
        "# Finally average it and compute AUC\n",
        "mean_tpr /= n_classes\n",
        "\n",
        "fpr[\"macro\"] = all_fpr\n",
        "tpr[\"macro\"] = mean_tpr\n",
        "roc_auc[\"macro\"] = auc(fpr[\"macro\"], tpr[\"macro\"])\n",
        "\n",
        "# Plot all ROC curves\n",
        "plt.figure()\n",
        "plt.plot(fpr[\"micro\"], tpr[\"micro\"],\n",
        "         label='micro-average ROC curve (area = {0:0.2f})'\n",
        "               ''.format(roc_auc[\"micro\"]),\n",
        "         color='deeppink', linestyle=':', linewidth=4)\n",
        "\n",
        "plt.plot(fpr[\"macro\"], tpr[\"macro\"],\n",
        "         label='macro-average ROC curve (area = {0:0.2f})'\n",
        "               ''.format(roc_auc[\"macro\"]),\n",
        "         color='navy', linestyle=':', linewidth=4)\n",
        "\n",
        "colors = cycle(['aqua', 'darkorange', 'cornflowerblue'])\n",
        "for i, color in zip(range(n_classes), colors):\n",
        "    plt.plot(fpr[i], tpr[i], color=color, lw=lw,\n",
        "             label='ROC curve of class {0} (area = {1:0.2f})'\n",
        "             ''.format(i, roc_auc[i]))\n",
        "\n",
        "plt.plot([0, 1], [0, 1], 'k--', lw=lw)\n",
        "plt.xlim([0.0, 1.0])\n",
        "plt.ylim([0.0, 1.05])\n",
        "plt.xlabel('False Positive Rate')\n",
        "plt.ylabel('True Positive Rate')\n",
        "plt.title('Some extension of Receiver operating characteristic to multi-class')\n",
        "plt.legend(loc=\"lower right\")\n",
        "plt.show()"
      ],
      "execution_count": null,
      "outputs": [
        {
          "output_type": "display_data",
          "data": {
            "image/png": "[encoded data removed]",
            "text/plain": [
              "<Figure size 432x288 with 1 Axes>"
            ]
          },
          "metadata": {
            "tags": [],
            "needs_background": "light"
          }
        }
      ]
    },
    {
      "cell_type": "markdown",
      "metadata": {
        "id": "cLxxfS47nt_v"
      },
      "source": [
        "[Courbe ROC](https://fr.wikipedia.org/wiki/Courbe_ROC#:~:text=La%20fonction%20d'efficacit%C3%A9%20du,est%20une%20mesure%20de%20la)"
      ]
    }
  ]
}